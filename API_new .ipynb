{
  "nbformat": 4,
  "nbformat_minor": 0,
  "metadata": {
    "colab": {
      "provenance": []
    },
    "kernelspec": {
      "name": "python3",
      "display_name": "Python 3"
    },
    "language_info": {
      "name": "python"
    }
  },
  "cells": [
    {
      "cell_type": "code",
      "source": [
        "import pandas as pd"
      ],
      "metadata": {
        "id": "lshKDQuLmIUl"
      },
      "execution_count": 48,
      "outputs": []
    },
    {
      "cell_type": "code",
      "execution_count": null,
      "metadata": {
        "id": "q-uSddc-bgnM"
      },
      "outputs": [],
      "source": [
        "# Following the instruction of kaggle documentation\n",
        "# on how to use their API\n",
        "!mkdir ~/.kaggle\n",
        "!mv kaggle.json ~/.kaggle"
      ]
    },
    {
      "cell_type": "code",
      "source": [
        "# Search for datasets which are \"spatial\" (dataset with location feature)\n",
        "!kaggle datasets list -s 'spatial'"
      ],
      "metadata": {
        "id": "ikJbl9lhh9hC",
        "colab": {
          "base_uri": "https://localhost:8080/"
        },
        "outputId": "23a7a18f-1eee-46d2-d220-2a1089a1b448"
      },
      "execution_count": 49,
      "outputs": [
        {
          "output_type": "stream",
          "name": "stdout",
          "text": [
            "Warning: Your Kaggle API key is readable by other users on this system! To fix this, you can run 'chmod 600 /root/.kaggle/kaggle.json'\n",
            "ref                                                          title                                               size  lastUpdated          downloadCount  voteCount  usabilityRating  \n",
            "-----------------------------------------------------------  -------------------------------------------------  -----  -------------------  -------------  ---------  ---------------  \n",
            "sadhliroomyprime/spatial-vehicle-detection                   Spatial Vehicle Detection                           59MB  2022-11-04 18:57:40            148         75  0.875            \n",
            "charlieharper/spatial-data-for-cord19-covid19-ordc           Spatial Data for CORD-19 (COVID-19 ORDC)           339MB  2020-03-28 16:11:50            997         55  0.9705882        \n",
            "leekahwin/bangladesh-spatial-database                        Bangladesh Spatial Database                          5MB  2022-08-10 05:59:49             38         14  0.88235295       \n",
            "reubencpereira/spatial-data-repo                             Spatial Data Repository (satellite data and more)   63MB  2018-05-15 18:46:08           1269         46  0.7058824        \n",
            "gsi-japan/global-map-japan-data                              Global Map Japan Data                               49MB  2018-11-13 19:34:28            512         40  0.75             \n",
            "apollo2506/landuse-scene-classification                      Land-Use Scene Classification                        2GB  2020-10-11 17:24:26           1510         36  0.88235295       \n",
            "camnugent/california-housing-prices                          California Housing Prices                          400KB  2017-11-24 03:14:59          88129        843  0.85294116       \n",
            "benroshan/online-food-delivery-preferencesbangalore-region   Online Food Delivery Preferences-Bangalore region   24KB  2020-11-07 14:18:36           6010         63  1.0              \n",
            "kveykva/sf-bay-area-pokemon-go-spawns                        SF Bay Area Pokemon Go Spawns                        4MB  2016-09-15 04:12:39           1462         25  0.5882353        \n",
            "PromptCloudHQ/airbnb-property-data-from-texas                Airbnb Property Data from Texas                      3MB  2017-07-24 20:21:04           2978         51  1.0              \n",
            "chetanism/foursquare-nyc-and-tokyo-checkin-dataset           FourSquare - NYC and Tokyo Check-ins                23MB  2017-04-27 11:12:36           3488         69  0.7647059        \n",
            "sudhirnl7/human-development-index-hdi                        Human Development Reports                            1MB  2018-04-01 18:41:46           1716         32  0.7058824        \n",
            "pattnaiksatyajit/geo-spatial-images-for-weather-forecasting  Geo Spatial Images for Weather Forecasting          25MB  2021-01-23 07:51:10             36         11  0.625            \n",
            "behroozsohrabi/us-wildfire-records-6th-edition               2.3 Million US Wildfires (1992-2020) 6th Edition   376MB  2022-12-14 22:09:41            135         17  0.9411765        \n",
            "itsahmad/indoor-scenes-cvpr-2019                             MIT Indoor Scenes                                    2GB  2019-09-25 05:46:53           4604         65  0.8125           \n",
            "danlessa/ebird-brazilian-observations                        eBird Brazilian Birdwatching Observations          242MB  2019-10-09 22:29:20            199          9  0.9705882        \n",
            "saisaran2/rainfall-data-from-1901-to-2017-for-india          Rainfall Data from 1901 to 2017 for India          183KB  2021-08-17 15:22:08           1296         28  0.7058824        \n",
            "mpwolke/cusersmarildownloadsscarcitycsv                      Water Scarcity - Water Footprint                    24KB  2021-06-01 19:52:46            935         82  1.0              \n",
            "andasampa/ortofotos-2017-rgb                                 Ortophotos of São Paulo city in 2017                26GB  2022-02-02 17:51:29             45         10  0.875            \n",
            "grosvenpaul/dengue-cases-in-the-philippines                  Dengue Cases in the Philippines                     14KB  2017-10-30 06:05:50           3992         76  0.8235294        \n"
          ]
        }
      ]
    },
    {
      "cell_type": "code",
      "source": [
        "# Import Kaggle API\n",
        "from kaggle.api.kaggle_api_extended import KaggleApi\n",
        "api = KaggleApi()\n",
        "api.authenticate()"
      ],
      "metadata": {
        "id": "ZSLqDpRai4nD",
        "colab": {
          "base_uri": "https://localhost:8080/"
        },
        "outputId": "85537b7e-86b5-4676-c96e-e55513e5277d"
      },
      "execution_count": 50,
      "outputs": [
        {
          "output_type": "stream",
          "name": "stdout",
          "text": [
            "Warning: Your Kaggle API key is readable by other users on this system! To fix this, you can run 'chmod 600 /root/.kaggle/kaggle.json'\n"
          ]
        }
      ]
    },
    {
      "cell_type": "code",
      "source": [
        "# Download a specific data and unzip it\n",
        "api.dataset_download_files('PromptCloudHQ/airbnb-property-data-from-texas')"
      ],
      "metadata": {
        "id": "N_SMZq3ekWV1"
      },
      "execution_count": 51,
      "outputs": []
    },
    {
      "cell_type": "code",
      "source": [
        "!unzip '/content/airbnb-property-data-from-texas.zip'"
      ],
      "metadata": {
        "colab": {
          "base_uri": "https://localhost:8080/"
        },
        "id": "BbBDCFXdv1HW",
        "outputId": "940e9ef1-ce6f-4e79-f399-5c809cd91c5a"
      },
      "execution_count": 52,
      "outputs": [
        {
          "output_type": "stream",
          "name": "stdout",
          "text": [
            "Archive:  /content/airbnb-property-data-from-texas.zip\n",
            "  inflating: Airbnb_Texas_Rentals.csv  \n"
          ]
        }
      ]
    },
    {
      "cell_type": "code",
      "source": [
        "# The data is in CSV format, read the data using pandas library\n",
        "data = pd.read_csv('Airbnb_Texas_Rentals.csv')\n",
        "data.shape"
      ],
      "metadata": {
        "id": "c3q-EH2jmODe",
        "colab": {
          "base_uri": "https://localhost:8080/"
        },
        "outputId": "d1ddcd5c-3c6d-4eed-97a4-a815e84ec8f1"
      },
      "execution_count": 53,
      "outputs": [
        {
          "output_type": "execute_result",
          "data": {
            "text/plain": [
              "(18259, 10)"
            ]
          },
          "metadata": {},
          "execution_count": 53
        }
      ]
    },
    {
      "cell_type": "code",
      "source": [
        "# Visualize 10 rows of the data\n",
        "data.head(10)"
      ],
      "metadata": {
        "colab": {
          "base_uri": "https://localhost:8080/",
          "height": 1000
        },
        "id": "bvqt6XvkmoGA",
        "outputId": "2a484f44-0f59-46a1-ce7f-3ba17dda5072"
      },
      "execution_count": 54,
      "outputs": [
        {
          "output_type": "execute_result",
          "data": {
            "text/plain": [
              "   Unnamed: 0 average_rate_per_night bedrooms_count         city  \\\n",
              "0           1                    $27              2       Humble   \n",
              "1           2                   $149              4  San Antonio   \n",
              "2           3                    $59              1      Houston   \n",
              "3           4                    $60              1        Bryan   \n",
              "4           5                    $75              2   Fort Worth   \n",
              "5           6                   $250              4       Conroe   \n",
              "6           7                   $129              3  Cedar Creek   \n",
              "7           8                    $25              1   Fort Worth   \n",
              "8           9                   $345              3     Rockport   \n",
              "9          10                    $72         Studio  San Antonio   \n",
              "\n",
              "  date_of_listing                                        description  \\\n",
              "0        May 2016  Welcome to stay in private room with queen bed...   \n",
              "1   November 2010  Stylish, fully remodeled home in upscale NW – ...   \n",
              "2    January 2017  'River house on island close to the city' \\nA ...   \n",
              "3   February 2016  Private bedroom in a cute little home situated...   \n",
              "4   February 2017  Welcome to our original 1920's home. We recent...   \n",
              "5     August 2016  My place is close to Lake Conroe, family-frien...   \n",
              "6      March 2016  Rustic country retreat on 8 acres southeast of...   \n",
              "7    January 2016  This is a beautiful bedroom with a queen size ...   \n",
              "8   February 2016  First class and comfortable condo with the bes...   \n",
              "9     August 2013                     Private entrance to your own \\   \n",
              "\n",
              "    latitude  longitude                                              title  \\\n",
              "0  30.020138 -95.293996    2 Private rooms/bathroom 10min from IAH airport   \n",
              "1  29.503068 -98.447688  Unique Location! Alamo Heights - Designer Insp...   \n",
              "2  29.829352 -95.081549                          River house near the city   \n",
              "3  30.637304 -96.337846                       Private Room Close to Campus   \n",
              "4  32.747097 -97.286434                                          The Porch   \n",
              "5  30.370455 -95.385319                 Gorgeous Home with Country Setting   \n",
              "6  30.109838 -97.473417      Cozy and Quaint Country Retreat with Acreage.   \n",
              "7  32.689611 -97.298161       Friendly Private Room in َQuiet Neighborhood   \n",
              "8  28.103726 -97.025832                              608 - Bayfront Condos   \n",
              "9  29.480646 -98.495692                       Cozy Historic Private Studio   \n",
              "\n",
              "                                                 url  \n",
              "0  https://www.airbnb.com/rooms/18520444?location...  \n",
              "1  https://www.airbnb.com/rooms/17481455?location...  \n",
              "2  https://www.airbnb.com/rooms/16926307?location...  \n",
              "3  https://www.airbnb.com/rooms/11839729?location...  \n",
              "4  https://www.airbnb.com/rooms/17325114?location...  \n",
              "5  https://www.airbnb.com/rooms/14466133?location...  \n",
              "6  https://www.airbnb.com/rooms/12491762?location...  \n",
              "7  https://www.airbnb.com/rooms/18977363?location...  \n",
              "8  https://www.airbnb.com/rooms/17559848?location...  \n",
              "9  https://www.airbnb.com/rooms/1588127?location=...  "
            ],
            "text/html": [
              "\n",
              "  <div id=\"df-7bcf50c9-61b9-46a0-9bce-33542f189041\">\n",
              "    <div class=\"colab-df-container\">\n",
              "      <div>\n",
              "<style scoped>\n",
              "    .dataframe tbody tr th:only-of-type {\n",
              "        vertical-align: middle;\n",
              "    }\n",
              "\n",
              "    .dataframe tbody tr th {\n",
              "        vertical-align: top;\n",
              "    }\n",
              "\n",
              "    .dataframe thead th {\n",
              "        text-align: right;\n",
              "    }\n",
              "</style>\n",
              "<table border=\"1\" class=\"dataframe\">\n",
              "  <thead>\n",
              "    <tr style=\"text-align: right;\">\n",
              "      <th></th>\n",
              "      <th>Unnamed: 0</th>\n",
              "      <th>average_rate_per_night</th>\n",
              "      <th>bedrooms_count</th>\n",
              "      <th>city</th>\n",
              "      <th>date_of_listing</th>\n",
              "      <th>description</th>\n",
              "      <th>latitude</th>\n",
              "      <th>longitude</th>\n",
              "      <th>title</th>\n",
              "      <th>url</th>\n",
              "    </tr>\n",
              "  </thead>\n",
              "  <tbody>\n",
              "    <tr>\n",
              "      <th>0</th>\n",
              "      <td>1</td>\n",
              "      <td>$27</td>\n",
              "      <td>2</td>\n",
              "      <td>Humble</td>\n",
              "      <td>May 2016</td>\n",
              "      <td>Welcome to stay in private room with queen bed...</td>\n",
              "      <td>30.020138</td>\n",
              "      <td>-95.293996</td>\n",
              "      <td>2 Private rooms/bathroom 10min from IAH airport</td>\n",
              "      <td>https://www.airbnb.com/rooms/18520444?location...</td>\n",
              "    </tr>\n",
              "    <tr>\n",
              "      <th>1</th>\n",
              "      <td>2</td>\n",
              "      <td>$149</td>\n",
              "      <td>4</td>\n",
              "      <td>San Antonio</td>\n",
              "      <td>November 2010</td>\n",
              "      <td>Stylish, fully remodeled home in upscale NW – ...</td>\n",
              "      <td>29.503068</td>\n",
              "      <td>-98.447688</td>\n",
              "      <td>Unique Location! Alamo Heights - Designer Insp...</td>\n",
              "      <td>https://www.airbnb.com/rooms/17481455?location...</td>\n",
              "    </tr>\n",
              "    <tr>\n",
              "      <th>2</th>\n",
              "      <td>3</td>\n",
              "      <td>$59</td>\n",
              "      <td>1</td>\n",
              "      <td>Houston</td>\n",
              "      <td>January 2017</td>\n",
              "      <td>'River house on island close to the city' \\nA ...</td>\n",
              "      <td>29.829352</td>\n",
              "      <td>-95.081549</td>\n",
              "      <td>River house near the city</td>\n",
              "      <td>https://www.airbnb.com/rooms/16926307?location...</td>\n",
              "    </tr>\n",
              "    <tr>\n",
              "      <th>3</th>\n",
              "      <td>4</td>\n",
              "      <td>$60</td>\n",
              "      <td>1</td>\n",
              "      <td>Bryan</td>\n",
              "      <td>February 2016</td>\n",
              "      <td>Private bedroom in a cute little home situated...</td>\n",
              "      <td>30.637304</td>\n",
              "      <td>-96.337846</td>\n",
              "      <td>Private Room Close to Campus</td>\n",
              "      <td>https://www.airbnb.com/rooms/11839729?location...</td>\n",
              "    </tr>\n",
              "    <tr>\n",
              "      <th>4</th>\n",
              "      <td>5</td>\n",
              "      <td>$75</td>\n",
              "      <td>2</td>\n",
              "      <td>Fort Worth</td>\n",
              "      <td>February 2017</td>\n",
              "      <td>Welcome to our original 1920's home. We recent...</td>\n",
              "      <td>32.747097</td>\n",
              "      <td>-97.286434</td>\n",
              "      <td>The Porch</td>\n",
              "      <td>https://www.airbnb.com/rooms/17325114?location...</td>\n",
              "    </tr>\n",
              "    <tr>\n",
              "      <th>5</th>\n",
              "      <td>6</td>\n",
              "      <td>$250</td>\n",
              "      <td>4</td>\n",
              "      <td>Conroe</td>\n",
              "      <td>August 2016</td>\n",
              "      <td>My place is close to Lake Conroe, family-frien...</td>\n",
              "      <td>30.370455</td>\n",
              "      <td>-95.385319</td>\n",
              "      <td>Gorgeous Home with Country Setting</td>\n",
              "      <td>https://www.airbnb.com/rooms/14466133?location...</td>\n",
              "    </tr>\n",
              "    <tr>\n",
              "      <th>6</th>\n",
              "      <td>7</td>\n",
              "      <td>$129</td>\n",
              "      <td>3</td>\n",
              "      <td>Cedar Creek</td>\n",
              "      <td>March 2016</td>\n",
              "      <td>Rustic country retreat on 8 acres southeast of...</td>\n",
              "      <td>30.109838</td>\n",
              "      <td>-97.473417</td>\n",
              "      <td>Cozy and Quaint Country Retreat with Acreage.</td>\n",
              "      <td>https://www.airbnb.com/rooms/12491762?location...</td>\n",
              "    </tr>\n",
              "    <tr>\n",
              "      <th>7</th>\n",
              "      <td>8</td>\n",
              "      <td>$25</td>\n",
              "      <td>1</td>\n",
              "      <td>Fort Worth</td>\n",
              "      <td>January 2016</td>\n",
              "      <td>This is a beautiful bedroom with a queen size ...</td>\n",
              "      <td>32.689611</td>\n",
              "      <td>-97.298161</td>\n",
              "      <td>Friendly Private Room in َQuiet Neighborhood</td>\n",
              "      <td>https://www.airbnb.com/rooms/18977363?location...</td>\n",
              "    </tr>\n",
              "    <tr>\n",
              "      <th>8</th>\n",
              "      <td>9</td>\n",
              "      <td>$345</td>\n",
              "      <td>3</td>\n",
              "      <td>Rockport</td>\n",
              "      <td>February 2016</td>\n",
              "      <td>First class and comfortable condo with the bes...</td>\n",
              "      <td>28.103726</td>\n",
              "      <td>-97.025832</td>\n",
              "      <td>608 - Bayfront Condos</td>\n",
              "      <td>https://www.airbnb.com/rooms/17559848?location...</td>\n",
              "    </tr>\n",
              "    <tr>\n",
              "      <th>9</th>\n",
              "      <td>10</td>\n",
              "      <td>$72</td>\n",
              "      <td>Studio</td>\n",
              "      <td>San Antonio</td>\n",
              "      <td>August 2013</td>\n",
              "      <td>Private entrance to your own \\</td>\n",
              "      <td>29.480646</td>\n",
              "      <td>-98.495692</td>\n",
              "      <td>Cozy Historic Private Studio</td>\n",
              "      <td>https://www.airbnb.com/rooms/1588127?location=...</td>\n",
              "    </tr>\n",
              "  </tbody>\n",
              "</table>\n",
              "</div>\n",
              "      <button class=\"colab-df-convert\" onclick=\"convertToInteractive('df-7bcf50c9-61b9-46a0-9bce-33542f189041')\"\n",
              "              title=\"Convert this dataframe to an interactive table.\"\n",
              "              style=\"display:none;\">\n",
              "        \n",
              "  <svg xmlns=\"http://www.w3.org/2000/svg\" height=\"24px\"viewBox=\"0 0 24 24\"\n",
              "       width=\"24px\">\n",
              "    <path d=\"M0 0h24v24H0V0z\" fill=\"none\"/>\n",
              "    <path d=\"M18.56 5.44l.94 2.06.94-2.06 2.06-.94-2.06-.94-.94-2.06-.94 2.06-2.06.94zm-11 1L8.5 8.5l.94-2.06 2.06-.94-2.06-.94L8.5 2.5l-.94 2.06-2.06.94zm10 10l.94 2.06.94-2.06 2.06-.94-2.06-.94-.94-2.06-.94 2.06-2.06.94z\"/><path d=\"M17.41 7.96l-1.37-1.37c-.4-.4-.92-.59-1.43-.59-.52 0-1.04.2-1.43.59L10.3 9.45l-7.72 7.72c-.78.78-.78 2.05 0 2.83L4 21.41c.39.39.9.59 1.41.59.51 0 1.02-.2 1.41-.59l7.78-7.78 2.81-2.81c.8-.78.8-2.07 0-2.86zM5.41 20L4 18.59l7.72-7.72 1.47 1.35L5.41 20z\"/>\n",
              "  </svg>\n",
              "      </button>\n",
              "      \n",
              "  <style>\n",
              "    .colab-df-container {\n",
              "      display:flex;\n",
              "      flex-wrap:wrap;\n",
              "      gap: 12px;\n",
              "    }\n",
              "\n",
              "    .colab-df-convert {\n",
              "      background-color: #E8F0FE;\n",
              "      border: none;\n",
              "      border-radius: 50%;\n",
              "      cursor: pointer;\n",
              "      display: none;\n",
              "      fill: #1967D2;\n",
              "      height: 32px;\n",
              "      padding: 0 0 0 0;\n",
              "      width: 32px;\n",
              "    }\n",
              "\n",
              "    .colab-df-convert:hover {\n",
              "      background-color: #E2EBFA;\n",
              "      box-shadow: 0px 1px 2px rgba(60, 64, 67, 0.3), 0px 1px 3px 1px rgba(60, 64, 67, 0.15);\n",
              "      fill: #174EA6;\n",
              "    }\n",
              "\n",
              "    [theme=dark] .colab-df-convert {\n",
              "      background-color: #3B4455;\n",
              "      fill: #D2E3FC;\n",
              "    }\n",
              "\n",
              "    [theme=dark] .colab-df-convert:hover {\n",
              "      background-color: #434B5C;\n",
              "      box-shadow: 0px 1px 3px 1px rgba(0, 0, 0, 0.15);\n",
              "      filter: drop-shadow(0px 1px 2px rgba(0, 0, 0, 0.3));\n",
              "      fill: #FFFFFF;\n",
              "    }\n",
              "  </style>\n",
              "\n",
              "      <script>\n",
              "        const buttonEl =\n",
              "          document.querySelector('#df-7bcf50c9-61b9-46a0-9bce-33542f189041 button.colab-df-convert');\n",
              "        buttonEl.style.display =\n",
              "          google.colab.kernel.accessAllowed ? 'block' : 'none';\n",
              "\n",
              "        async function convertToInteractive(key) {\n",
              "          const element = document.querySelector('#df-7bcf50c9-61b9-46a0-9bce-33542f189041');\n",
              "          const dataTable =\n",
              "            await google.colab.kernel.invokeFunction('convertToInteractive',\n",
              "                                                     [key], {});\n",
              "          if (!dataTable) return;\n",
              "\n",
              "          const docLinkHtml = 'Like what you see? Visit the ' +\n",
              "            '<a target=\"_blank\" href=https://colab.research.google.com/notebooks/data_table.ipynb>data table notebook</a>'\n",
              "            + ' to learn more about interactive tables.';\n",
              "          element.innerHTML = '';\n",
              "          dataTable['output_type'] = 'display_data';\n",
              "          await google.colab.output.renderOutput(dataTable, element);\n",
              "          const docLink = document.createElement('div');\n",
              "          docLink.innerHTML = docLinkHtml;\n",
              "          element.appendChild(docLink);\n",
              "        }\n",
              "      </script>\n",
              "    </div>\n",
              "  </div>\n",
              "  "
            ]
          },
          "metadata": {},
          "execution_count": 54
        }
      ]
    }
  ]
}