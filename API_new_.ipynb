{
  "nbformat": 4,
  "nbformat_minor": 0,
  "metadata": {
    "colab": {
      "provenance": [],
      "include_colab_link": true
    },
    "kernelspec": {
      "name": "python3",
      "display_name": "Python 3"
    },
    "language_info": {
      "name": "python"
    }
  },
  "cells": [
    {
      "cell_type": "markdown",
      "metadata": {
        "id": "view-in-github",
        "colab_type": "text"
      },
      "source": [
        "<a href=\"https://colab.research.google.com/github/NikzadaShafi/Working-with-APIs-Kaggle-API-/blob/main/API_new_.ipynb\" target=\"_parent\"><img src=\"https://colab.research.google.com/assets/colab-badge.svg\" alt=\"Open In Colab\"/></a>"
      ]
    },
    {
      "cell_type": "code",
      "source": [
        "import pandas as pd\n",
        "from google.colab import drive\n",
        "\n",
        "# Mount the drive to your Colab workspace\n",
        "drive.mount('/content/drive')"
      ],
      "metadata": {
        "id": "lshKDQuLmIUl"
      },
      "execution_count": null,
      "outputs": []
    },
    {
      "cell_type": "code",
      "execution_count": null,
      "metadata": {
        "id": "q-uSddc-bgnM"
      },
      "outputs": [],
      "source": [
        "# Following the instruction of kaggle documentation\n",
        "# on how to use their API, first create a directory (.kaggle)\n",
        "!mkdir ~/.kaggle\n",
        "# copy kaggle.json to .kaggle\n",
        "!cp /content/drive/MyDrive/kaggle.json ~/.kaggle/kaggle.json"
      ]
    },
    {
      "cell_type": "code",
      "source": [
        "# Search for datasets which are \"spatial\" (dataset with location feature)\n",
        "!kaggle datasets list -s 'spatial'"
      ],
      "metadata": {
        "id": "ikJbl9lhh9hC"
      },
      "execution_count": null,
      "outputs": []
    },
    {
      "cell_type": "code",
      "source": [
        "# Import Kaggle API\n",
        "from kaggle.api.kaggle_api_extended import KaggleApi\n",
        "api = KaggleApi()\n",
        "api.authenticate()"
      ],
      "metadata": {
        "id": "ZSLqDpRai4nD"
      },
      "execution_count": 39,
      "outputs": []
    },
    {
      "cell_type": "code",
      "source": [
        "# Download the specific data that you want\n",
        "api.dataset_download_files('PromptCloudHQ/airbnb-property-data-from-texas')"
      ],
      "metadata": {
        "id": "N_SMZq3ekWV1"
      },
      "execution_count": 45,
      "outputs": []
    },
    {
      "cell_type": "code",
      "source": [
        "# Unzip it\n",
        "!unzip '/content/airbnb-property-data-from-texas.zip'"
      ],
      "metadata": {
        "id": "BbBDCFXdv1HW"
      },
      "execution_count": null,
      "outputs": []
    },
    {
      "cell_type": "code",
      "source": [
        "# The data is in CSV format, read the data using pandas library\n",
        "data = pd.read_csv('Airbnb_Texas_Rentals.csv')\n",
        "data.shape"
      ],
      "metadata": {
        "id": "c3q-EH2jmODe",
        "colab": {
          "base_uri": "https://localhost:8080/"
        },
        "outputId": "fc4a74f7-46bd-4523-ce84-0e8474edbca5"
      },
      "execution_count": 47,
      "outputs": [
        {
          "output_type": "execute_result",
          "data": {
            "text/plain": [
              "(18259, 10)"
            ]
          },
          "metadata": {},
          "execution_count": 47
        }
      ]
    },
    {
      "cell_type": "code",
      "source": [
        "# Visualize 10 rows of the data\n",
        "data.head(10)"
      ],
      "metadata": {
        "id": "bvqt6XvkmoGA"
      },
      "execution_count": null,
      "outputs": []
    }
  ]
}